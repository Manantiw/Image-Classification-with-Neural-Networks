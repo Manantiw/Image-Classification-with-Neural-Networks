{
 "cells": [
  {
   "cell_type": "markdown",
   "metadata": {},
   "source": [
    "# CSE474/574 - Programming Assignment 2"
   ]
  },
  {
   "cell_type": "markdown",
   "metadata": {},
   "source": [
    "## Part 3 - Image Classification with Deep[er] neural networks\n",
    "\n",
    "For this part, we will use `keras` with a `tensorflow` backend, instead of directly using `tensorflow`, as in Part 1. See [here](https://anaconda.org/conda-forge/keras) for installation instructions."
   ]
  },
  {
   "cell_type": "code",
   "execution_count": 3,
   "metadata": {},
   "outputs": [
    {
     "name": "stdout",
     "output_type": "stream",
     "text": [
      "Requirement already satisfied: keras in c:\\programdata\\anaconda3\\lib\\site-packages (2.4.3)\n",
      "Requirement already satisfied: h5py in c:\\programdata\\anaconda3\\lib\\site-packages (from keras) (2.10.0)\n",
      "Requirement already satisfied: pyyaml in c:\\programdata\\anaconda3\\lib\\site-packages (from keras) (5.3.1)\n",
      "Requirement already satisfied: numpy>=1.9.1 in c:\\programdata\\anaconda3\\lib\\site-packages (from keras) (1.19.2)\n",
      "Requirement already satisfied: scipy>=0.14 in c:\\programdata\\anaconda3\\lib\\site-packages (from keras) (1.5.2)\n",
      "Requirement already satisfied: six in c:\\users\\manan\\appdata\\roaming\\python\\python38\\site-packages (from h5py->keras) (1.15.0)\n",
      "Note: you may need to restart the kernel to use updated packages.\n"
     ]
    }
   ],
   "source": [
    "pip install keras"
   ]
  },
  {
   "cell_type": "code",
   "execution_count": 4,
   "metadata": {},
   "outputs": [
    {
     "name": "stdout",
     "output_type": "stream",
     "text": [
      "Collecting tensorflow\n",
      "  Downloading tensorflow-2.4.1-cp38-cp38-win_amd64.whl (370.7 MB)\n",
      "Requirement already satisfied: typing-extensions~=3.7.4 in c:\\programdata\\anaconda3\\lib\\site-packages (from tensorflow) (3.7.4.3)\n",
      "Collecting absl-py~=0.10\n",
      "  Downloading absl_py-0.12.0-py3-none-any.whl (129 kB)\n",
      "Requirement already satisfied: wrapt~=1.12.1 in c:\\users\\manan\\appdata\\roaming\\python\\python38\\site-packages (from tensorflow) (1.12.1)\n",
      "Requirement already satisfied: h5py~=2.10.0 in c:\\programdata\\anaconda3\\lib\\site-packages (from tensorflow) (2.10.0)\n",
      "Collecting tensorflow-estimator<2.5.0,>=2.4.0\n",
      "  Downloading tensorflow_estimator-2.4.0-py2.py3-none-any.whl (462 kB)\n",
      "Collecting google-pasta~=0.2\n",
      "  Downloading google_pasta-0.2.0-py3-none-any.whl (57 kB)\n",
      "Collecting astunparse~=1.6.3\n",
      "  Downloading astunparse-1.6.3-py2.py3-none-any.whl (12 kB)\n",
      "Collecting keras-preprocessing~=1.1.2\n",
      "  Downloading Keras_Preprocessing-1.1.2-py2.py3-none-any.whl (42 kB)\n",
      "Requirement already satisfied: numpy~=1.19.2 in c:\\programdata\\anaconda3\\lib\\site-packages (from tensorflow) (1.19.2)\n",
      "Collecting opt-einsum~=3.3.0\n",
      "  Downloading opt_einsum-3.3.0-py3-none-any.whl (65 kB)\n",
      "Collecting termcolor~=1.1.0\n",
      "  Downloading termcolor-1.1.0.tar.gz (3.9 kB)\n",
      "Collecting grpcio~=1.32.0\n",
      "  Downloading grpcio-1.32.0-cp38-cp38-win_amd64.whl (2.6 MB)\n",
      "Collecting gast==0.3.3\n",
      "  Downloading gast-0.3.3-py2.py3-none-any.whl (9.7 kB)\n",
      "Collecting flatbuffers~=1.12.0\n",
      "  Downloading flatbuffers-1.12-py2.py3-none-any.whl (15 kB)\n",
      "Requirement already satisfied: wheel~=0.35 in c:\\programdata\\anaconda3\\lib\\site-packages (from tensorflow) (0.35.1)\n",
      "Collecting tensorboard~=2.4\n",
      "  Downloading tensorboard-2.4.1-py3-none-any.whl (10.6 MB)\n",
      "Requirement already satisfied: six~=1.15.0 in c:\\users\\manan\\appdata\\roaming\\python\\python38\\site-packages (from tensorflow) (1.15.0)\n",
      "Collecting protobuf>=3.9.2\n",
      "  Downloading protobuf-3.15.8-py2.py3-none-any.whl (173 kB)\n",
      "Requirement already satisfied: werkzeug>=0.11.15 in c:\\programdata\\anaconda3\\lib\\site-packages (from tensorboard~=2.4->tensorflow) (1.0.1)\n",
      "Collecting google-auth-oauthlib<0.5,>=0.4.1\n",
      "  Downloading google_auth_oauthlib-0.4.4-py2.py3-none-any.whl (18 kB)\n",
      "Requirement already satisfied: setuptools>=41.0.0 in c:\\programdata\\anaconda3\\lib\\site-packages (from tensorboard~=2.4->tensorflow) (50.3.1.post20201107)\n",
      "Collecting markdown>=2.6.8\n",
      "  Downloading Markdown-3.3.4-py3-none-any.whl (97 kB)\n",
      "Requirement already satisfied: requests<3,>=2.21.0 in c:\\programdata\\anaconda3\\lib\\site-packages (from tensorboard~=2.4->tensorflow) (2.24.0)\n",
      "Collecting tensorboard-plugin-wit>=1.6.0\n",
      "  Downloading tensorboard_plugin_wit-1.8.0-py3-none-any.whl (781 kB)\n",
      "Collecting google-auth<2,>=1.6.3\n",
      "  Downloading google_auth-1.28.1-py2.py3-none-any.whl (136 kB)\n",
      "Collecting requests-oauthlib>=0.7.0\n",
      "  Downloading requests_oauthlib-1.3.0-py2.py3-none-any.whl (23 kB)\n",
      "Requirement already satisfied: urllib3!=1.25.0,!=1.25.1,<1.26,>=1.21.1 in c:\\programdata\\anaconda3\\lib\\site-packages (from requests<3,>=2.21.0->tensorboard~=2.4->tensorflow) (1.25.11)\n",
      "Requirement already satisfied: chardet<4,>=3.0.2 in c:\\programdata\\anaconda3\\lib\\site-packages (from requests<3,>=2.21.0->tensorboard~=2.4->tensorflow) (3.0.4)\n",
      "Requirement already satisfied: certifi>=2017.4.17 in c:\\programdata\\anaconda3\\lib\\site-packages (from requests<3,>=2.21.0->tensorboard~=2.4->tensorflow) (2020.6.20)\n",
      "Requirement already satisfied: idna<3,>=2.5 in c:\\programdata\\anaconda3\\lib\\site-packages (from requests<3,>=2.21.0->tensorboard~=2.4->tensorflow) (2.10)\n",
      "Collecting rsa<5,>=3.1.4; python_version >= \"3.6\"\n",
      "  Downloading rsa-4.7.2-py3-none-any.whl (34 kB)\n",
      "Collecting pyasn1-modules>=0.2.1\n",
      "  Downloading pyasn1_modules-0.2.8-py2.py3-none-any.whl (155 kB)\n",
      "Collecting cachetools<5.0,>=2.0.0\n",
      "  Downloading cachetools-4.2.1-py3-none-any.whl (12 kB)\n",
      "Collecting oauthlib>=3.0.0\n",
      "  Downloading oauthlib-3.1.0-py2.py3-none-any.whl (147 kB)\n",
      "Collecting pyasn1>=0.1.3\n",
      "  Downloading pyasn1-0.4.8-py2.py3-none-any.whl (77 kB)\n",
      "Building wheels for collected packages: termcolor\n",
      "  Building wheel for termcolor (setup.py): started\n",
      "  Building wheel for termcolor (setup.py): finished with status 'done'\n",
      "  Created wheel for termcolor: filename=termcolor-1.1.0-py3-none-any.whl size=4835 sha256=55f03fcc67abfe4aa42910d92267d43a21dff6e52c4e9dd0dd6a7947cf377a33\n",
      "  Stored in directory: c:\\users\\manan\\appdata\\local\\pip\\cache\\wheels\\a0\\16\\9c\\5473df82468f958445479c59e784896fa24f4a5fc024b0f501\n",
      "Successfully built termcolor\n",
      "Installing collected packages: absl-py, tensorflow-estimator, google-pasta, astunparse, keras-preprocessing, opt-einsum, termcolor, grpcio, gast, flatbuffers, protobuf, pyasn1, rsa, pyasn1-modules, cachetools, google-auth, oauthlib, requests-oauthlib, google-auth-oauthlib, markdown, tensorboard-plugin-wit, tensorboard, tensorflow\n",
      "Successfully installed absl-py-0.12.0 astunparse-1.6.3 cachetools-4.2.1 flatbuffers-1.12 gast-0.3.3 google-auth-1.28.1 google-auth-oauthlib-0.4.4 google-pasta-0.2.0 grpcio-1.32.0 keras-preprocessing-1.1.2 markdown-3.3.4 oauthlib-3.1.0 opt-einsum-3.3.0 protobuf-3.15.8 pyasn1-0.4.8 pyasn1-modules-0.2.8 requests-oauthlib-1.3.0 rsa-4.7.2 tensorboard-2.4.1 tensorboard-plugin-wit-1.8.0 tensorflow-2.4.1 tensorflow-estimator-2.4.0 termcolor-1.1.0\n",
      "Note: you may need to restart the kernel to use updated packages.\n"
     ]
    }
   ],
   "source": [
    "pip install tensorflow\n"
   ]
  },
  {
   "cell_type": "code",
   "execution_count": 42,
   "metadata": {},
   "outputs": [],
   "source": [
    "from __future__ import print_function\n",
    "from keras.models import Sequential\n",
    "from keras.layers import Dense, Activation\n",
    "\n",
    "import numpy as np\n",
    "import random as rd\n",
    "import time\n",
    "import pickle\n",
    "import os\n",
    "from PIL import Image\n",
    "#os.environ[\"CUDA_VISIBLE_DEVICES\"]=\"1\"\n",
    "import matplotlib.pyplot as plt\n",
    "%matplotlib inline"
   ]
  },
  {
   "cell_type": "code",
   "execution_count": 43,
   "metadata": {},
   "outputs": [],
   "source": [
    "classes = ['apple', 'airplane', 'basketball', 'axe', 'banana', 'horse', 'arm', 'alarm clock', 'ant', 'bed']"
   ]
  },
  {
   "cell_type": "code",
   "execution_count": 44,
   "metadata": {},
   "outputs": [],
   "source": [
    "# load data\n",
    "train_data,train_label,test_data,test_label = pickle.load(open('AI_quick_draw_sm.pickle','rb'))"
   ]
  },
  {
   "cell_type": "code",
   "execution_count": 45,
   "metadata": {},
   "outputs": [],
   "source": [
    "# for some macosx installations, conflicting copies of mpilib causes trouble with tensorflow.\n",
    "# use the following two lines to resolve that issue\n",
    "import os\n",
    "os.environ['KMP_DUPLICATE_LIB_OK']='True'"
   ]
  },
  {
   "cell_type": "code",
   "execution_count": 46,
   "metadata": {},
   "outputs": [],
   "source": [
    "n_classes = len(np.unique(train_label))\n",
    "# convert labels to 0-1 hot encoding\n",
    "train_label_01 = np.zeros((train_label.shape[0], n_classes))\n",
    "a = np.arange(train_label.shape[0], dtype=np.int64)\n",
    "b = np.array(train_label, dtype=np.int64).reshape((train_label.shape[0],))\n",
    "train_label_01[a, b] = 1\n",
    "\n",
    "test_label_01 = np.zeros((test_label.shape[0], n_classes))\n",
    "c = np.arange(test_label.shape[0], dtype=np.int64)\n",
    "d = np.array(test_label, dtype=np.int64).reshape((test_label.shape[0],))\n",
    "test_label_01[c, d] = 1"
   ]
  },
  {
   "cell_type": "code",
   "execution_count": 47,
   "metadata": {},
   "outputs": [
    {
     "ename": "SyntaxError",
     "evalue": "invalid syntax (<ipython-input-47-fdb76f3823c0>, line 1)",
     "output_type": "error",
     "traceback": [
      "\u001b[1;36m  File \u001b[1;32m\"<ipython-input-47-fdb76f3823c0>\"\u001b[1;36m, line \u001b[1;32m1\u001b[0m\n\u001b[1;33m    **WARNING**: This cell will take a significantly long time to run\u001b[0m\n\u001b[1;37m    ^\u001b[0m\n\u001b[1;31mSyntaxError\u001b[0m\u001b[1;31m:\u001b[0m invalid syntax\n"
     ]
    }
   ],
   "source": [
    "**WARNING**: This cell will take a significantly long time to run"
   ]
  },
  {
   "cell_type": "code",
   "execution_count": 52,
   "metadata": {
    "scrolled": true
   },
   "outputs": [],
   "source": [
    "model = Sequential()\n",
    "M = 80\n",
    "L = 4\n",
    "activation = 'tanh' # other options 'relu', 'tanh'\n",
    "# this is the first hidden layer\n",
    "model.add(Dense(M, activation=activation, input_dim=train_data.shape[1]))\n",
    "# you can add more Dense layers here\n",
    "for l in range(1,L):\n",
    "    model.add(Dense(M, activation=activation, input_dim=M))\n",
    "# this is the output layer\n",
    "model.add(Dense(n_classes, activation='softmax'))\n",
    "model.compile(optimizer='rmsprop',\n",
    "              loss='categorical_crossentropy',\n",
    "              metrics=['accuracy'])"
   ]
  },
  {
   "cell_type": "code",
   "execution_count": 53,
   "metadata": {},
   "outputs": [
    {
     "name": "stdout",
     "output_type": "stream",
     "text": [
      "Model: \"sequential_8\"\n",
      "_________________________________________________________________\n",
      "Layer (type)                 Output Shape              Param #   \n",
      "=================================================================\n",
      "dense_31 (Dense)             (None, 80)                62800     \n",
      "_________________________________________________________________\n",
      "dense_32 (Dense)             (None, 80)                6480      \n",
      "_________________________________________________________________\n",
      "dense_33 (Dense)             (None, 80)                6480      \n",
      "_________________________________________________________________\n",
      "dense_34 (Dense)             (None, 80)                6480      \n",
      "_________________________________________________________________\n",
      "dense_35 (Dense)             (None, 10)                810       \n",
      "=================================================================\n",
      "Total params: 83,050\n",
      "Trainable params: 83,050\n",
      "Non-trainable params: 0\n",
      "_________________________________________________________________\n"
     ]
    }
   ],
   "source": [
    "model.summary()"
   ]
  },
  {
   "cell_type": "code",
   "execution_count": 54,
   "metadata": {},
   "outputs": [
    {
     "name": "stdout",
     "output_type": "stream",
     "text": [
      "Epoch 1/50\n",
      "782/782 [==============================] - 4s 3ms/step - loss: 1.5771 - accuracy: 0.4600\n",
      "Epoch 2/50\n",
      "782/782 [==============================] - 3s 4ms/step - loss: 1.1331 - accuracy: 0.6249\n",
      "Epoch 3/50\n",
      "782/782 [==============================] - 3s 4ms/step - loss: 1.0751 - accuracy: 0.6409\n",
      "Epoch 4/50\n",
      "782/782 [==============================] - 3s 3ms/step - loss: 0.9943 - accuracy: 0.6721\n",
      "Epoch 5/50\n",
      "782/782 [==============================] - 3s 3ms/step - loss: 0.9726 - accuracy: 0.6817\n",
      "Epoch 6/50\n",
      "782/782 [==============================] - 3s 4ms/step - loss: 0.9232 - accuracy: 0.6959\n",
      "Epoch 7/50\n",
      "782/782 [==============================] - 3s 4ms/step - loss: 0.9286 - accuracy: 0.6976\n",
      "Epoch 8/50\n",
      "782/782 [==============================] - 3s 4ms/step - loss: 0.8900 - accuracy: 0.7088\n",
      "Epoch 9/50\n",
      "782/782 [==============================] - 3s 4ms/step - loss: 0.8730 - accuracy: 0.7154\n",
      "Epoch 10/50\n",
      "782/782 [==============================] - 3s 4ms/step - loss: 0.8714 - accuracy: 0.7146\n",
      "Epoch 11/50\n",
      "782/782 [==============================] - 3s 3ms/step - loss: 0.8442 - accuracy: 0.7254\n",
      "Epoch 12/50\n",
      "782/782 [==============================] - 2s 3ms/step - loss: 0.8315 - accuracy: 0.7306\n",
      "Epoch 13/50\n",
      "782/782 [==============================] - 3s 4ms/step - loss: 0.8192 - accuracy: 0.7337\n",
      "Epoch 14/50\n",
      "782/782 [==============================] - 3s 4ms/step - loss: 0.8066 - accuracy: 0.7364\n",
      "Epoch 15/50\n",
      "782/782 [==============================] - 3s 4ms/step - loss: 0.8017 - accuracy: 0.7425\n",
      "Epoch 16/50\n",
      "782/782 [==============================] - 3s 4ms/step - loss: 0.8115 - accuracy: 0.7370\n",
      "Epoch 17/50\n",
      "782/782 [==============================] - 3s 3ms/step - loss: 0.7803 - accuracy: 0.7474\n",
      "Epoch 18/50\n",
      "782/782 [==============================] - 3s 3ms/step - loss: 0.7871 - accuracy: 0.7447\n",
      "Epoch 19/50\n",
      "782/782 [==============================] - 3s 3ms/step - loss: 0.7739 - accuracy: 0.7530\n",
      "Epoch 20/50\n",
      "782/782 [==============================] - 3s 3ms/step - loss: 0.7931 - accuracy: 0.7411\n",
      "Epoch 21/50\n",
      "782/782 [==============================] - 3s 4ms/step - loss: 0.7733 - accuracy: 0.7482\n",
      "Epoch 22/50\n",
      "782/782 [==============================] - 3s 4ms/step - loss: 0.7749 - accuracy: 0.7478\n",
      "Epoch 23/50\n",
      "782/782 [==============================] - 3s 3ms/step - loss: 0.7570 - accuracy: 0.7566\n",
      "Epoch 24/50\n",
      "782/782 [==============================] - 3s 4ms/step - loss: 0.7596 - accuracy: 0.7547\n",
      "Epoch 25/50\n",
      "782/782 [==============================] - 3s 4ms/step - loss: 0.7527 - accuracy: 0.7558\n",
      "Epoch 26/50\n",
      "782/782 [==============================] - 3s 4ms/step - loss: 0.7437 - accuracy: 0.7603\n",
      "Epoch 27/50\n",
      "782/782 [==============================] - 3s 4ms/step - loss: 0.7260 - accuracy: 0.7638\n",
      "Epoch 28/50\n",
      "782/782 [==============================] - 3s 4ms/step - loss: 0.7413 - accuracy: 0.7578\n",
      "Epoch 29/50\n",
      "782/782 [==============================] - 3s 4ms/step - loss: 0.7332 - accuracy: 0.7632\n",
      "Epoch 30/50\n",
      "782/782 [==============================] - 2s 3ms/step - loss: 0.7406 - accuracy: 0.7601\n",
      "Epoch 31/50\n",
      "782/782 [==============================] - 3s 3ms/step - loss: 0.7289 - accuracy: 0.7639\n",
      "Epoch 32/50\n",
      "782/782 [==============================] - 3s 3ms/step - loss: 0.7253 - accuracy: 0.7658\n",
      "Epoch 33/50\n",
      "782/782 [==============================] - 3s 3ms/step - loss: 0.7093 - accuracy: 0.7749\n",
      "Epoch 34/50\n",
      "782/782 [==============================] - 2s 3ms/step - loss: 0.7201 - accuracy: 0.7631\n",
      "Epoch 35/50\n",
      "782/782 [==============================] - 3s 3ms/step - loss: 0.7040 - accuracy: 0.7698\n",
      "Epoch 36/50\n",
      "782/782 [==============================] - 3s 3ms/step - loss: 0.7049 - accuracy: 0.7712\n",
      "Epoch 37/50\n",
      "782/782 [==============================] - 3s 4ms/step - loss: 0.6982 - accuracy: 0.7749\n",
      "Epoch 38/50\n",
      "782/782 [==============================] - 3s 4ms/step - loss: 0.7028 - accuracy: 0.7735\n",
      "Epoch 39/50\n",
      "782/782 [==============================] - 3s 4ms/step - loss: 0.7027 - accuracy: 0.7697\n",
      "Epoch 40/50\n",
      "782/782 [==============================] - 3s 4ms/step - loss: 0.7074 - accuracy: 0.7714\n",
      "Epoch 41/50\n",
      "782/782 [==============================] - 2s 3ms/step - loss: 0.6853 - accuracy: 0.7758\n",
      "Epoch 42/50\n",
      "782/782 [==============================] - 2s 3ms/step - loss: 0.7007 - accuracy: 0.7754\n",
      "Epoch 43/50\n",
      "782/782 [==============================] - 2s 3ms/step - loss: 0.7085 - accuracy: 0.7717\n",
      "Epoch 44/50\n",
      "782/782 [==============================] - 2s 3ms/step - loss: 0.6891 - accuracy: 0.7791\n",
      "Epoch 45/50\n",
      "782/782 [==============================] - 3s 3ms/step - loss: 0.7032 - accuracy: 0.7717\n",
      "Epoch 46/50\n",
      "782/782 [==============================] - 3s 4ms/step - loss: 0.6797 - accuracy: 0.7815\n",
      "Epoch 47/50\n",
      "782/782 [==============================] - 3s 3ms/step - loss: 0.6916 - accuracy: 0.7798\n",
      "Epoch 48/50\n",
      "782/782 [==============================] - 3s 4ms/step - loss: 0.6767 - accuracy: 0.7806\n",
      "Epoch 49/50\n",
      "782/782 [==============================] - 3s 3ms/step - loss: 0.6955 - accuracy: 0.7733\n",
      "Epoch 50/50\n",
      "782/782 [==============================] - 3s 3ms/step - loss: 0.6714 - accuracy: 0.7829\n",
      "Training completed in 135.52 seconds.\n"
     ]
    }
   ],
   "source": [
    "st = time.time()\n",
    "model.fit(train_data, train_label_01, epochs=50, batch_size=32)\n",
    "en = time.time()\n",
    "print(\"Training completed in {:.2f} seconds.\".format(en-st))"
   ]
  },
  {
   "cell_type": "code",
   "execution_count": 55,
   "metadata": {},
   "outputs": [
    {
     "name": "stdout",
     "output_type": "stream",
     "text": [
      "Training set Accuracy: 78.83%\n",
      "Testing set Accuracy : 74.88%\n"
     ]
    }
   ],
   "source": [
    "train_predicted = model.predict_classes(train_data)\n",
    "acc_train = np.where(train_label == train_predicted)[0].shape[0]/train_data.shape[0]\n",
    "print('Training set Accuracy: {:.2f}%'.format(100 * acc_train))\n",
    "\n",
    "test_predicted = model.predict_classes(test_data)\n",
    "acc_test = np.where(test_label == test_predicted)[0].shape[0]/test_data.shape[0]\n",
    "print('Testing set Accuracy : {:.2f}%'.format(100 * acc_test))"
   ]
  },
  {
   "cell_type": "code",
   "execution_count": 37,
   "metadata": {},
   "outputs": [
    {
     "data": {
      "text/plain": [
       "Text(0, 0.5, 'Accuracy Percentage')"
      ]
     },
     "execution_count": 37,
     "metadata": {},
     "output_type": "execute_result"
    },
    {
     "data": {
      "image/png": "[encoded data removed]",
      "text/plain": [
       "<Figure size 432x288 with 1 Axes>"
      ]
     },
     "metadata": {
      "needs_background": "light"
     },
     "output_type": "display_data"
    }
   ],
   "source": [
    "L = [1, 2, 3, 4, 5]\n",
    "trainA = [76.87,78.24,78.34,78.72,76.9]\n",
    "testA = [73.44,74.66,75.06,74.94,73.7]\n",
    "time = [113.05,115.45,122.29,120.72,131.35]\n",
    "plt.plot(L, trainA, label='Training Set Accuracy')\n",
    "plt.plot(L, testA, label='Test Set Accuracy')\n",
    "plt.legend(loc='lower center')\n",
    "plt.xlabel('L ')\n",
    "plt.ylabel('Accuracy Percentage')"
   ]
  },
  {
   "cell_type": "code",
   "execution_count": 38,
   "metadata": {},
   "outputs": [
    {
     "data": {
      "text/plain": [
       "Text(0, 0.5, 'Time')"
      ]
     },
     "execution_count": 38,
     "metadata": {},
     "output_type": "execute_result"
    },
    {
     "data": {
      "image/png": "[encoded data removed]",
      "text/plain": [
       "<Figure size 432x288 with 1 Axes>"
      ]
     },
     "metadata": {
      "needs_background": "light"
     },
     "output_type": "display_data"
    }
   ],
   "source": [
    "L = [1, 2, 3, 4, 5]\n",
    "#trainA = [76.87,78.24,78.34,78.72,76.9]\n",
    "#testA = [73.44,74.66,75.06,74.94,73.7]\n",
    "time = [113.05,115.45,122.29,120.72,131.35]\n",
    "#plt.plot(L, trainA, label='Training Set Accuracy')\n",
    "#plt.plot(L, testA, label='Test Set Accuracy')\n",
    "plt.plot(L, time, label='Time')\n",
    "\n",
    "#plt.legend(loc='lower center')\n",
    "plt.xlabel('L ')\n",
    "plt.ylabel('Time')"
   ]
  },
  {
   "cell_type": "code",
   "execution_count": null,
   "metadata": {},
   "outputs": [],
   "source": [
    " = [1, 2, 3, 4, 5]\n",
    "trainA = [76.87,78.24,78.34,78.72,76.9]\n",
    "testA = [73.44,74.66,75.06,74.94,73.7]\n",
    "time = [113.05,115.45,122.29,120.72,131.35]\n",
    "plt.plot(L, trainA, label='Training Set Accuracy')\n",
    "plt.plot(L, testA, label='Test Set Accuracy')\n",
    "plt.legend(loc='lower center')\n",
    "plt.xlabel('L ')\n",
    "plt.ylabel('Accuracy Percentage')"
   ]
  }
 ],
 "metadata": {
  "kernelspec": {
   "display_name": "Python 3",
   "language": "python",
   "name": "python3"
  },
  "language_info": {
   "codemirror_mode": {
    "name": "ipython",
    "version": 3
   },
   "file_extension": ".py",
   "mimetype": "text/x-python",
   "name": "python",
   "nbconvert_exporter": "python",
   "pygments_lexer": "ipython3",
   "version": "3.8.5"
  }
 },
 "nbformat": 4,
 "nbformat_minor": 4
}
